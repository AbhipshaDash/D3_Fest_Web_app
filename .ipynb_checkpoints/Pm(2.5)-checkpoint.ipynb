{
 "cells": [
  {
   "cell_type": "markdown",
   "id": "f02882a2",
   "metadata": {},
   "source": [
    "# PM 2.5"
   ]
  },
  {
   "cell_type": "code",
   "execution_count": 1,
   "id": "5b39d344",
   "metadata": {},
   "outputs": [],
   "source": [
    "import pandas as pd\n",
    "import numpy as np\n",
    "import matplotlib.pyplot as plt\n",
    "import seaborn as sns\n",
    "import warnings\n",
    "warnings.filterwarnings(\"ignore\")"
   ]
  },
  {
   "cell_type": "code",
   "execution_count": 2,
   "id": "ccbea73f",
   "metadata": {},
   "outputs": [],
   "source": [
    "df=pd.read_csv(\"train.csv\").copy()"
   ]
  },
  {
   "cell_type": "code",
   "execution_count": 3,
   "id": "5609ac33",
   "metadata": {},
   "outputs": [
    {
     "data": {
      "text/html": [
       "<div>\n",
       "<style scoped>\n",
       "    .dataframe tbody tr th:only-of-type {\n",
       "        vertical-align: middle;\n",
       "    }\n",
       "\n",
       "    .dataframe tbody tr th {\n",
       "        vertical-align: top;\n",
       "    }\n",
       "\n",
       "    .dataframe thead th {\n",
       "        text-align: right;\n",
       "    }\n",
       "</style>\n",
       "<table border=\"1\" class=\"dataframe\">\n",
       "  <thead>\n",
       "    <tr style=\"text-align: right;\">\n",
       "      <th></th>\n",
       "      <th>Unnamed: 0</th>\n",
       "      <th>year</th>\n",
       "      <th>month</th>\n",
       "      <th>day</th>\n",
       "      <th>hour</th>\n",
       "      <th>PM2.5</th>\n",
       "      <th>temperature</th>\n",
       "      <th>pressure</th>\n",
       "      <th>rain</th>\n",
       "      <th>wind_direction</th>\n",
       "      <th>wind_speed</th>\n",
       "    </tr>\n",
       "  </thead>\n",
       "  <tbody>\n",
       "    <tr>\n",
       "      <th>0</th>\n",
       "      <td>0</td>\n",
       "      <td>2013</td>\n",
       "      <td>-37.0</td>\n",
       "      <td>1.0</td>\n",
       "      <td>0.0</td>\n",
       "      <td>4.0</td>\n",
       "      <td>-0.7</td>\n",
       "      <td>102-37</td>\n",
       "      <td>0.0</td>\n",
       "      <td>NNW</td>\n",
       "      <td>4.4</td>\n",
       "    </tr>\n",
       "    <tr>\n",
       "      <th>1</th>\n",
       "      <td>1</td>\n",
       "      <td>201-37</td>\n",
       "      <td>-37.0</td>\n",
       "      <td>1.0</td>\n",
       "      <td>1.0</td>\n",
       "      <td>8.0</td>\n",
       "      <td>-1.1</td>\n",
       "      <td>1023.2</td>\n",
       "      <td>0.0</td>\n",
       "      <td>N</td>\n",
       "      <td>NaN</td>\n",
       "    </tr>\n",
       "    <tr>\n",
       "      <th>2</th>\n",
       "      <td>2</td>\n",
       "      <td>2013</td>\n",
       "      <td>3.0</td>\n",
       "      <td>1.0</td>\n",
       "      <td>2.0</td>\n",
       "      <td>7.0</td>\n",
       "      <td>-1.1</td>\n",
       "      <td>1023.5</td>\n",
       "      <td>0.0</td>\n",
       "      <td>NNW</td>\n",
       "      <td>5.6</td>\n",
       "    </tr>\n",
       "    <tr>\n",
       "      <th>3</th>\n",
       "      <td>3</td>\n",
       "      <td>2013</td>\n",
       "      <td>3.0</td>\n",
       "      <td>1.0</td>\n",
       "      <td>3.0</td>\n",
       "      <td>6.0</td>\n",
       "      <td>-1.4</td>\n",
       "      <td>1024.5</td>\n",
       "      <td>0.0</td>\n",
       "      <td>NW</td>\n",
       "      <td>3.1</td>\n",
       "    </tr>\n",
       "    <tr>\n",
       "      <th>4</th>\n",
       "      <td>4</td>\n",
       "      <td>2013</td>\n",
       "      <td>3.0</td>\n",
       "      <td>1.0</td>\n",
       "      <td>4.0</td>\n",
       "      <td>3.0</td>\n",
       "      <td>-2.0</td>\n",
       "      <td>1025.2</td>\n",
       "      <td>0.0</td>\n",
       "      <td>N</td>\n",
       "      <td>2.0</td>\n",
       "    </tr>\n",
       "  </tbody>\n",
       "</table>\n",
       "</div>"
      ],
      "text/plain": [
       "   Unnamed: 0    year  month  day  hour  PM2.5  temperature pressure  rain  \\\n",
       "0           0    2013  -37.0  1.0   0.0    4.0         -0.7   102-37   0.0   \n",
       "1           1  201-37  -37.0  1.0   1.0    8.0         -1.1   1023.2   0.0   \n",
       "2           2    2013    3.0  1.0   2.0    7.0         -1.1   1023.5   0.0   \n",
       "3           3    2013    3.0  1.0   3.0    6.0         -1.4   1024.5   0.0   \n",
       "4           4    2013    3.0  1.0   4.0    3.0         -2.0   1025.2   0.0   \n",
       "\n",
       "  wind_direction  wind_speed  \n",
       "0            NNW         4.4  \n",
       "1              N         NaN  \n",
       "2            NNW         5.6  \n",
       "3             NW         3.1  \n",
       "4              N         2.0  "
      ]
     },
     "execution_count": 3,
     "metadata": {},
     "output_type": "execute_result"
    }
   ],
   "source": [
    "df.head()"
   ]
  },
  {
   "cell_type": "code",
   "execution_count": 4,
   "id": "e965482b",
   "metadata": {},
   "outputs": [
    {
     "name": "stdout",
     "output_type": "stream",
     "text": [
      "<class 'pandas.core.frame.DataFrame'>\n",
      "RangeIndex: 31527 entries, 0 to 31526\n",
      "Data columns (total 11 columns):\n",
      " #   Column          Non-Null Count  Dtype  \n",
      "---  ------          --------------  -----  \n",
      " 0   Unnamed: 0      31527 non-null  int64  \n",
      " 1   year            31512 non-null  object \n",
      " 2   month           31521 non-null  float64\n",
      " 3   day             31507 non-null  float64\n",
      " 4   hour            31519 non-null  float64\n",
      " 5   PM2.5           31513 non-null  float64\n",
      " 6   temperature     31508 non-null  float64\n",
      " 7   pressure        31500 non-null  object \n",
      " 8   rain            31515 non-null  float64\n",
      " 9   wind_direction  31467 non-null  object \n",
      " 10  wind_speed      31502 non-null  float64\n",
      "dtypes: float64(7), int64(1), object(3)\n",
      "memory usage: 2.6+ MB\n"
     ]
    }
   ],
   "source": [
    "df.info()"
   ]
  },
  {
   "cell_type": "code",
   "execution_count": 5,
   "id": "f5b2387d",
   "metadata": {},
   "outputs": [
    {
     "data": {
      "text/html": [
       "<div>\n",
       "<style scoped>\n",
       "    .dataframe tbody tr th:only-of-type {\n",
       "        vertical-align: middle;\n",
       "    }\n",
       "\n",
       "    .dataframe tbody tr th {\n",
       "        vertical-align: top;\n",
       "    }\n",
       "\n",
       "    .dataframe thead th {\n",
       "        text-align: right;\n",
       "    }\n",
       "</style>\n",
       "<table border=\"1\" class=\"dataframe\">\n",
       "  <thead>\n",
       "    <tr style=\"text-align: right;\">\n",
       "      <th></th>\n",
       "      <th>Unnamed: 0</th>\n",
       "      <th>month</th>\n",
       "      <th>day</th>\n",
       "      <th>hour</th>\n",
       "      <th>PM2.5</th>\n",
       "      <th>temperature</th>\n",
       "      <th>rain</th>\n",
       "      <th>wind_speed</th>\n",
       "    </tr>\n",
       "  </thead>\n",
       "  <tbody>\n",
       "    <tr>\n",
       "      <th>count</th>\n",
       "      <td>31527.000000</td>\n",
       "      <td>31521.000000</td>\n",
       "      <td>31507.000000</td>\n",
       "      <td>31519.000000</td>\n",
       "      <td>3.151300e+04</td>\n",
       "      <td>31508.000000</td>\n",
       "      <td>31515.000000</td>\n",
       "      <td>31502.000000</td>\n",
       "    </tr>\n",
       "    <tr>\n",
       "      <th>mean</th>\n",
       "      <td>16195.784217</td>\n",
       "      <td>6.451001</td>\n",
       "      <td>15.413083</td>\n",
       "      <td>11.288429</td>\n",
       "      <td>2.095628e+03</td>\n",
       "      <td>14.356532</td>\n",
       "      <td>0.071744</td>\n",
       "      <td>1.696949</td>\n",
       "    </tr>\n",
       "    <tr>\n",
       "      <th>std</th>\n",
       "      <td>9514.606331</td>\n",
       "      <td>3.326838</td>\n",
       "      <td>33.139925</td>\n",
       "      <td>37.127145</td>\n",
       "      <td>3.575087e+05</td>\n",
       "      <td>11.296366</td>\n",
       "      <td>0.949720</td>\n",
       "      <td>1.338706</td>\n",
       "    </tr>\n",
       "    <tr>\n",
       "      <th>min</th>\n",
       "      <td>0.000000</td>\n",
       "      <td>-37.000000</td>\n",
       "      <td>-5656.000000</td>\n",
       "      <td>-6464.000000</td>\n",
       "      <td>3.000000e+00</td>\n",
       "      <td>-16.800000</td>\n",
       "      <td>0.000000</td>\n",
       "      <td>-79.000000</td>\n",
       "    </tr>\n",
       "    <tr>\n",
       "      <th>25%</th>\n",
       "      <td>7888.500000</td>\n",
       "      <td>4.000000</td>\n",
       "      <td>8.000000</td>\n",
       "      <td>5.000000</td>\n",
       "      <td>2.300000e+01</td>\n",
       "      <td>4.300000</td>\n",
       "      <td>0.000000</td>\n",
       "      <td>0.900000</td>\n",
       "    </tr>\n",
       "    <tr>\n",
       "      <th>50%</th>\n",
       "      <td>16279.000000</td>\n",
       "      <td>6.000000</td>\n",
       "      <td>15.000000</td>\n",
       "      <td>11.000000</td>\n",
       "      <td>5.800000e+01</td>\n",
       "      <td>15.800000</td>\n",
       "      <td>0.000000</td>\n",
       "      <td>1.400000</td>\n",
       "    </tr>\n",
       "    <tr>\n",
       "      <th>75%</th>\n",
       "      <td>24371.500000</td>\n",
       "      <td>9.000000</td>\n",
       "      <td>23.000000</td>\n",
       "      <td>18.000000</td>\n",
       "      <td>1.130000e+02</td>\n",
       "      <td>23.700000</td>\n",
       "      <td>0.000000</td>\n",
       "      <td>2.200000</td>\n",
       "    </tr>\n",
       "    <tr>\n",
       "      <th>max</th>\n",
       "      <td>35054.000000</td>\n",
       "      <td>12.000000</td>\n",
       "      <td>31.000000</td>\n",
       "      <td>23.000000</td>\n",
       "      <td>6.346466e+07</td>\n",
       "      <td>40.500000</td>\n",
       "      <td>72.500000</td>\n",
       "      <td>11.200000</td>\n",
       "    </tr>\n",
       "  </tbody>\n",
       "</table>\n",
       "</div>"
      ],
      "text/plain": [
       "         Unnamed: 0         month           day          hour         PM2.5  \\\n",
       "count  31527.000000  31521.000000  31507.000000  31519.000000  3.151300e+04   \n",
       "mean   16195.784217      6.451001     15.413083     11.288429  2.095628e+03   \n",
       "std     9514.606331      3.326838     33.139925     37.127145  3.575087e+05   \n",
       "min        0.000000    -37.000000  -5656.000000  -6464.000000  3.000000e+00   \n",
       "25%     7888.500000      4.000000      8.000000      5.000000  2.300000e+01   \n",
       "50%    16279.000000      6.000000     15.000000     11.000000  5.800000e+01   \n",
       "75%    24371.500000      9.000000     23.000000     18.000000  1.130000e+02   \n",
       "max    35054.000000     12.000000     31.000000     23.000000  6.346466e+07   \n",
       "\n",
       "        temperature          rain    wind_speed  \n",
       "count  31508.000000  31515.000000  31502.000000  \n",
       "mean      14.356532      0.071744      1.696949  \n",
       "std       11.296366      0.949720      1.338706  \n",
       "min      -16.800000      0.000000    -79.000000  \n",
       "25%        4.300000      0.000000      0.900000  \n",
       "50%       15.800000      0.000000      1.400000  \n",
       "75%       23.700000      0.000000      2.200000  \n",
       "max       40.500000     72.500000     11.200000  "
      ]
     },
     "execution_count": 5,
     "metadata": {},
     "output_type": "execute_result"
    }
   ],
   "source": [
    "df.describe()"
   ]
  },
  {
   "cell_type": "code",
   "execution_count": 6,
   "id": "993441ae",
   "metadata": {},
   "outputs": [
    {
     "data": {
      "text/html": [
       "<div>\n",
       "<style scoped>\n",
       "    .dataframe tbody tr th:only-of-type {\n",
       "        vertical-align: middle;\n",
       "    }\n",
       "\n",
       "    .dataframe tbody tr th {\n",
       "        vertical-align: top;\n",
       "    }\n",
       "\n",
       "    .dataframe thead th {\n",
       "        text-align: right;\n",
       "    }\n",
       "</style>\n",
       "<table border=\"1\" class=\"dataframe\">\n",
       "  <thead>\n",
       "    <tr style=\"text-align: right;\">\n",
       "      <th></th>\n",
       "      <th>Unnamed: 0</th>\n",
       "      <th>month</th>\n",
       "      <th>day</th>\n",
       "      <th>hour</th>\n",
       "      <th>PM2.5</th>\n",
       "      <th>temperature</th>\n",
       "      <th>rain</th>\n",
       "      <th>wind_speed</th>\n",
       "    </tr>\n",
       "  </thead>\n",
       "  <tbody>\n",
       "    <tr>\n",
       "      <th>Unnamed: 0</th>\n",
       "      <td>1.000000</td>\n",
       "      <td>0.053745</td>\n",
       "      <td>-0.000974</td>\n",
       "      <td>-0.004918</td>\n",
       "      <td>-0.009109</td>\n",
       "      <td>-0.018812</td>\n",
       "      <td>0.008747</td>\n",
       "      <td>0.093004</td>\n",
       "    </tr>\n",
       "    <tr>\n",
       "      <th>month</th>\n",
       "      <td>0.053745</td>\n",
       "      <td>1.000000</td>\n",
       "      <td>0.007470</td>\n",
       "      <td>0.009215</td>\n",
       "      <td>-0.004149</td>\n",
       "      <td>0.150297</td>\n",
       "      <td>0.014065</td>\n",
       "      <td>-0.145393</td>\n",
       "    </tr>\n",
       "    <tr>\n",
       "      <th>day</th>\n",
       "      <td>-0.000974</td>\n",
       "      <td>0.007470</td>\n",
       "      <td>1.000000</td>\n",
       "      <td>0.000686</td>\n",
       "      <td>-0.001939</td>\n",
       "      <td>0.014903</td>\n",
       "      <td>0.000181</td>\n",
       "      <td>-0.009156</td>\n",
       "    </tr>\n",
       "    <tr>\n",
       "      <th>hour</th>\n",
       "      <td>-0.004918</td>\n",
       "      <td>0.009215</td>\n",
       "      <td>0.000686</td>\n",
       "      <td>1.000000</td>\n",
       "      <td>0.001019</td>\n",
       "      <td>0.036235</td>\n",
       "      <td>0.002572</td>\n",
       "      <td>0.020382</td>\n",
       "    </tr>\n",
       "    <tr>\n",
       "      <th>PM2.5</th>\n",
       "      <td>-0.009109</td>\n",
       "      <td>-0.004149</td>\n",
       "      <td>-0.001939</td>\n",
       "      <td>0.001019</td>\n",
       "      <td>1.000000</td>\n",
       "      <td>-0.004347</td>\n",
       "      <td>0.007282</td>\n",
       "      <td>0.000801</td>\n",
       "    </tr>\n",
       "    <tr>\n",
       "      <th>temperature</th>\n",
       "      <td>-0.018812</td>\n",
       "      <td>0.150297</td>\n",
       "      <td>0.014903</td>\n",
       "      <td>0.036235</td>\n",
       "      <td>-0.004347</td>\n",
       "      <td>1.000000</td>\n",
       "      <td>0.033579</td>\n",
       "      <td>0.038875</td>\n",
       "    </tr>\n",
       "    <tr>\n",
       "      <th>rain</th>\n",
       "      <td>0.008747</td>\n",
       "      <td>0.014065</td>\n",
       "      <td>0.000181</td>\n",
       "      <td>0.002572</td>\n",
       "      <td>0.007282</td>\n",
       "      <td>0.033579</td>\n",
       "      <td>1.000000</td>\n",
       "      <td>0.021422</td>\n",
       "    </tr>\n",
       "    <tr>\n",
       "      <th>wind_speed</th>\n",
       "      <td>0.093004</td>\n",
       "      <td>-0.145393</td>\n",
       "      <td>-0.009156</td>\n",
       "      <td>0.020382</td>\n",
       "      <td>0.000801</td>\n",
       "      <td>0.038875</td>\n",
       "      <td>0.021422</td>\n",
       "      <td>1.000000</td>\n",
       "    </tr>\n",
       "  </tbody>\n",
       "</table>\n",
       "</div>"
      ],
      "text/plain": [
       "             Unnamed: 0     month       day      hour     PM2.5  temperature  \\\n",
       "Unnamed: 0     1.000000  0.053745 -0.000974 -0.004918 -0.009109    -0.018812   \n",
       "month          0.053745  1.000000  0.007470  0.009215 -0.004149     0.150297   \n",
       "day           -0.000974  0.007470  1.000000  0.000686 -0.001939     0.014903   \n",
       "hour          -0.004918  0.009215  0.000686  1.000000  0.001019     0.036235   \n",
       "PM2.5         -0.009109 -0.004149 -0.001939  0.001019  1.000000    -0.004347   \n",
       "temperature   -0.018812  0.150297  0.014903  0.036235 -0.004347     1.000000   \n",
       "rain           0.008747  0.014065  0.000181  0.002572  0.007282     0.033579   \n",
       "wind_speed     0.093004 -0.145393 -0.009156  0.020382  0.000801     0.038875   \n",
       "\n",
       "                 rain  wind_speed  \n",
       "Unnamed: 0   0.008747    0.093004  \n",
       "month        0.014065   -0.145393  \n",
       "day          0.000181   -0.009156  \n",
       "hour         0.002572    0.020382  \n",
       "PM2.5        0.007282    0.000801  \n",
       "temperature  0.033579    0.038875  \n",
       "rain         1.000000    0.021422  \n",
       "wind_speed   0.021422    1.000000  "
      ]
     },
     "execution_count": 6,
     "metadata": {},
     "output_type": "execute_result"
    }
   ],
   "source": [
    "df.corr()"
   ]
  },
  {
   "cell_type": "code",
   "execution_count": 7,
   "id": "2a753b28",
   "metadata": {},
   "outputs": [
    {
     "data": {
      "text/plain": [
       "Unnamed: 0         0\n",
       "year              15\n",
       "month              6\n",
       "day               20\n",
       "hour               8\n",
       "PM2.5             14\n",
       "temperature       19\n",
       "pressure          27\n",
       "rain              12\n",
       "wind_direction    60\n",
       "wind_speed        25\n",
       "dtype: int64"
      ]
     },
     "execution_count": 7,
     "metadata": {},
     "output_type": "execute_result"
    }
   ],
   "source": [
    "df.isnull().sum()"
   ]
  },
  {
   "cell_type": "markdown",
   "id": "eb6770cc",
   "metadata": {},
   "source": [
    "## EDA and Feature Enginnering"
   ]
  },
  {
   "cell_type": "code",
   "execution_count": 8,
   "id": "677e0466",
   "metadata": {},
   "outputs": [],
   "source": [
    "df.dropna(inplace=True)"
   ]
  },
  {
   "cell_type": "code",
   "execution_count": 9,
   "id": "161e02d7",
   "metadata": {},
   "outputs": [
    {
     "data": {
      "text/plain": [
       "2015    8522\n",
       "2014    8235\n",
       "2013    7301\n",
       "2016    7026\n",
       "2017     287\n",
       "Name: year, dtype: int64"
      ]
     },
     "execution_count": 9,
     "metadata": {},
     "output_type": "execute_result"
    }
   ],
   "source": [
    "df['year'].value_counts()"
   ]
  },
  {
   "cell_type": "code",
   "execution_count": 10,
   "id": "e7845b05",
   "metadata": {},
   "outputs": [
    {
     "data": {
      "text/plain": [
       "<seaborn.axisgrid.FacetGrid at 0x25125e62280>"
      ]
     },
     "execution_count": 10,
     "metadata": {},
     "output_type": "execute_result"
    },
    {
     "data": {
      "image/png": "[encoded data removed]",
      "text/plain": [
       "<Figure size 360x360 with 1 Axes>"
      ]
     },
     "metadata": {
      "needs_background": "light"
     },
     "output_type": "display_data"
    }
   ],
   "source": [
    "sns.relplot(x=df['year'],y=df['PM2.5'],data=df,kind='line')"
   ]
  },
  {
   "cell_type": "code",
   "execution_count": 11,
   "id": "c7c0cec0",
   "metadata": {},
   "outputs": [
    {
     "data": {
      "text/html": [
       "<div>\n",
       "<style scoped>\n",
       "    .dataframe tbody tr th:only-of-type {\n",
       "        vertical-align: middle;\n",
       "    }\n",
       "\n",
       "    .dataframe tbody tr th {\n",
       "        vertical-align: top;\n",
       "    }\n",
       "\n",
       "    .dataframe thead th {\n",
       "        text-align: right;\n",
       "    }\n",
       "</style>\n",
       "<table border=\"1\" class=\"dataframe\">\n",
       "  <thead>\n",
       "    <tr style=\"text-align: right;\">\n",
       "      <th></th>\n",
       "      <th>Unnamed: 0</th>\n",
       "      <th>year</th>\n",
       "      <th>month</th>\n",
       "      <th>day</th>\n",
       "      <th>hour</th>\n",
       "      <th>PM2.5</th>\n",
       "      <th>temperature</th>\n",
       "      <th>pressure</th>\n",
       "      <th>rain</th>\n",
       "      <th>wind_direction</th>\n",
       "      <th>wind_speed</th>\n",
       "    </tr>\n",
       "  </thead>\n",
       "  <tbody>\n",
       "  </tbody>\n",
       "</table>\n",
       "</div>"
      ],
      "text/plain": [
       "Empty DataFrame\n",
       "Columns: [Unnamed: 0, year, month, day, hour, PM2.5, temperature, pressure, rain, wind_direction, wind_speed]\n",
       "Index: []"
      ]
     },
     "execution_count": 11,
     "metadata": {},
     "output_type": "execute_result"
    }
   ],
   "source": [
    "df[df['year']=='201-37']"
   ]
  },
  {
   "cell_type": "code",
   "execution_count": 12,
   "id": "3903c25f",
   "metadata": {},
   "outputs": [
    {
     "data": {
      "text/html": [
       "<div>\n",
       "<style scoped>\n",
       "    .dataframe tbody tr th:only-of-type {\n",
       "        vertical-align: middle;\n",
       "    }\n",
       "\n",
       "    .dataframe tbody tr th {\n",
       "        vertical-align: top;\n",
       "    }\n",
       "\n",
       "    .dataframe thead th {\n",
       "        text-align: right;\n",
       "    }\n",
       "</style>\n",
       "<table border=\"1\" class=\"dataframe\">\n",
       "  <thead>\n",
       "    <tr style=\"text-align: right;\">\n",
       "      <th></th>\n",
       "      <th>Unnamed: 0</th>\n",
       "      <th>year</th>\n",
       "      <th>month</th>\n",
       "      <th>day</th>\n",
       "      <th>hour</th>\n",
       "      <th>PM2.5</th>\n",
       "      <th>temperature</th>\n",
       "      <th>pressure</th>\n",
       "      <th>rain</th>\n",
       "      <th>wind_direction</th>\n",
       "      <th>wind_speed</th>\n",
       "    </tr>\n",
       "  </thead>\n",
       "  <tbody>\n",
       "    <tr>\n",
       "      <th>0</th>\n",
       "      <td>0</td>\n",
       "      <td>2013</td>\n",
       "      <td>-37.0</td>\n",
       "      <td>1.0</td>\n",
       "      <td>0.0</td>\n",
       "      <td>4.0</td>\n",
       "      <td>-0.7</td>\n",
       "      <td>102-37</td>\n",
       "      <td>0.0</td>\n",
       "      <td>NNW</td>\n",
       "      <td>4.4</td>\n",
       "    </tr>\n",
       "    <tr>\n",
       "      <th>2</th>\n",
       "      <td>2</td>\n",
       "      <td>2013</td>\n",
       "      <td>3.0</td>\n",
       "      <td>1.0</td>\n",
       "      <td>2.0</td>\n",
       "      <td>7.0</td>\n",
       "      <td>-1.1</td>\n",
       "      <td>1023.5</td>\n",
       "      <td>0.0</td>\n",
       "      <td>NNW</td>\n",
       "      <td>5.6</td>\n",
       "    </tr>\n",
       "    <tr>\n",
       "      <th>3</th>\n",
       "      <td>3</td>\n",
       "      <td>2013</td>\n",
       "      <td>3.0</td>\n",
       "      <td>1.0</td>\n",
       "      <td>3.0</td>\n",
       "      <td>6.0</td>\n",
       "      <td>-1.4</td>\n",
       "      <td>1024.5</td>\n",
       "      <td>0.0</td>\n",
       "      <td>NW</td>\n",
       "      <td>3.1</td>\n",
       "    </tr>\n",
       "    <tr>\n",
       "      <th>4</th>\n",
       "      <td>4</td>\n",
       "      <td>2013</td>\n",
       "      <td>3.0</td>\n",
       "      <td>1.0</td>\n",
       "      <td>4.0</td>\n",
       "      <td>3.0</td>\n",
       "      <td>-2.0</td>\n",
       "      <td>1025.2</td>\n",
       "      <td>0.0</td>\n",
       "      <td>N</td>\n",
       "      <td>2.0</td>\n",
       "    </tr>\n",
       "    <tr>\n",
       "      <th>6</th>\n",
       "      <td>6</td>\n",
       "      <td>2013</td>\n",
       "      <td>3.0</td>\n",
       "      <td>1.0</td>\n",
       "      <td>6.0</td>\n",
       "      <td>3.0</td>\n",
       "      <td>-2.6</td>\n",
       "      <td>1026.5</td>\n",
       "      <td>0.0</td>\n",
       "      <td>NNE</td>\n",
       "      <td>2.5</td>\n",
       "    </tr>\n",
       "    <tr>\n",
       "      <th>...</th>\n",
       "      <td>...</td>\n",
       "      <td>...</td>\n",
       "      <td>...</td>\n",
       "      <td>...</td>\n",
       "      <td>...</td>\n",
       "      <td>...</td>\n",
       "      <td>...</td>\n",
       "      <td>...</td>\n",
       "      <td>...</td>\n",
       "      <td>...</td>\n",
       "      <td>...</td>\n",
       "    </tr>\n",
       "    <tr>\n",
       "      <th>31522</th>\n",
       "      <td>35022</td>\n",
       "      <td>2017</td>\n",
       "      <td>2.0</td>\n",
       "      <td>27.0</td>\n",
       "      <td>6.0</td>\n",
       "      <td>80.0</td>\n",
       "      <td>-0.3</td>\n",
       "      <td>1019.4</td>\n",
       "      <td>0.0</td>\n",
       "      <td>ENE</td>\n",
       "      <td>0.8</td>\n",
       "    </tr>\n",
       "    <tr>\n",
       "      <th>31523</th>\n",
       "      <td>35032</td>\n",
       "      <td>2017</td>\n",
       "      <td>2.0</td>\n",
       "      <td>27.0</td>\n",
       "      <td>16.0</td>\n",
       "      <td>75.0</td>\n",
       "      <td>15.9</td>\n",
       "      <td>1014</td>\n",
       "      <td>0.0</td>\n",
       "      <td>SW</td>\n",
       "      <td>2.9</td>\n",
       "    </tr>\n",
       "    <tr>\n",
       "      <th>31524</th>\n",
       "      <td>35035</td>\n",
       "      <td>2017</td>\n",
       "      <td>2.0</td>\n",
       "      <td>27.0</td>\n",
       "      <td>19.0</td>\n",
       "      <td>51.0</td>\n",
       "      <td>11.5</td>\n",
       "      <td>1014.1</td>\n",
       "      <td>0.0</td>\n",
       "      <td>SSW</td>\n",
       "      <td>1.0</td>\n",
       "    </tr>\n",
       "    <tr>\n",
       "      <th>31525</th>\n",
       "      <td>35042</td>\n",
       "      <td>2017</td>\n",
       "      <td>2.0</td>\n",
       "      <td>28.0</td>\n",
       "      <td>2.0</td>\n",
       "      <td>9.0</td>\n",
       "      <td>8.6</td>\n",
       "      <td>1016</td>\n",
       "      <td>0.0</td>\n",
       "      <td>NNE</td>\n",
       "      <td>0.9</td>\n",
       "    </tr>\n",
       "    <tr>\n",
       "      <th>31526</th>\n",
       "      <td>35054</td>\n",
       "      <td>2017</td>\n",
       "      <td>2.0</td>\n",
       "      <td>28.0</td>\n",
       "      <td>14.0</td>\n",
       "      <td>5.0</td>\n",
       "      <td>14.6</td>\n",
       "      <td>1013.3</td>\n",
       "      <td>0.0</td>\n",
       "      <td>N</td>\n",
       "      <td>3.6</td>\n",
       "    </tr>\n",
       "  </tbody>\n",
       "</table>\n",
       "<p>31371 rows × 11 columns</p>\n",
       "</div>"
      ],
      "text/plain": [
       "       Unnamed: 0  year  month   day  hour  PM2.5  temperature pressure  rain  \\\n",
       "0               0  2013  -37.0   1.0   0.0    4.0         -0.7   102-37   0.0   \n",
       "2               2  2013    3.0   1.0   2.0    7.0         -1.1   1023.5   0.0   \n",
       "3               3  2013    3.0   1.0   3.0    6.0         -1.4   1024.5   0.0   \n",
       "4               4  2013    3.0   1.0   4.0    3.0         -2.0   1025.2   0.0   \n",
       "6               6  2013    3.0   1.0   6.0    3.0         -2.6   1026.5   0.0   \n",
       "...           ...   ...    ...   ...   ...    ...          ...      ...   ...   \n",
       "31522       35022  2017    2.0  27.0   6.0   80.0         -0.3   1019.4   0.0   \n",
       "31523       35032  2017    2.0  27.0  16.0   75.0         15.9     1014   0.0   \n",
       "31524       35035  2017    2.0  27.0  19.0   51.0         11.5   1014.1   0.0   \n",
       "31525       35042  2017    2.0  28.0   2.0    9.0          8.6     1016   0.0   \n",
       "31526       35054  2017    2.0  28.0  14.0    5.0         14.6   1013.3   0.0   \n",
       "\n",
       "      wind_direction  wind_speed  \n",
       "0                NNW         4.4  \n",
       "2                NNW         5.6  \n",
       "3                 NW         3.1  \n",
       "4                  N         2.0  \n",
       "6                NNE         2.5  \n",
       "...              ...         ...  \n",
       "31522            ENE         0.8  \n",
       "31523             SW         2.9  \n",
       "31524            SSW         1.0  \n",
       "31525            NNE         0.9  \n",
       "31526              N         3.6  \n",
       "\n",
       "[31371 rows x 11 columns]"
      ]
     },
     "execution_count": 12,
     "metadata": {},
     "output_type": "execute_result"
    }
   ],
   "source": [
    "df"
   ]
  },
  {
   "cell_type": "code",
   "execution_count": 13,
   "id": "c90466b2",
   "metadata": {
    "scrolled": true
   },
   "outputs": [],
   "source": [
    "df.drop(0,inplace=True) # Deleting Unecessary year\n",
    "df.drop('Unnamed: 0',axis=1,inplace=True)"
   ]
  },
  {
   "cell_type": "code",
   "execution_count": 14,
   "id": "804ed036",
   "metadata": {},
   "outputs": [
    {
     "data": {
      "text/plain": [
       "year              0\n",
       "month             0\n",
       "day               0\n",
       "hour              0\n",
       "PM2.5             0\n",
       "temperature       0\n",
       "pressure          0\n",
       "rain              0\n",
       "wind_direction    0\n",
       "wind_speed        0\n",
       "dtype: int64"
      ]
     },
     "execution_count": 14,
     "metadata": {},
     "output_type": "execute_result"
    }
   ],
   "source": [
    "df.isnull().sum()"
   ]
  },
  {
   "cell_type": "code",
   "execution_count": 15,
   "id": "446369fe",
   "metadata": {},
   "outputs": [],
   "source": [
    "# Handeling Nan values\n",
    "#df['year'].fillna('2015',inplace=True)"
   ]
  },
  {
   "cell_type": "code",
   "execution_count": null,
   "id": "33c34e9a",
   "metadata": {},
   "outputs": [],
   "source": [
    "# Year vs Max Pm2.5\n",
    "year=['2013','2014','2015','2016','2017']\n",
    "max1=[]\n",
    "for i in year:\n",
    "    temp=df[df['year']==i]\n",
    "    max1.append(temp['PM2.5'].mean())"
   ]
  },
  {
   "cell_type": "code",
   "execution_count": null,
   "id": "97552602",
   "metadata": {},
   "outputs": [],
   "source": [
    "plt.bar(year,max1)\n",
    "plt.xlabel('Year')\n",
    "plt.ylabel(\"Average PM2.5\")\n",
    "plt.show()"
   ]
  },
  {
   "cell_type": "markdown",
   "id": "0c6a6935",
   "metadata": {},
   "source": [
    "#### Observation - Average Pm2.5 was very high in year 2013 and drastically decreased onwards"
   ]
  },
  {
   "cell_type": "code",
   "execution_count": null,
   "id": "0835ec0a",
   "metadata": {},
   "outputs": [],
   "source": [
    "sns.boxplot(df['month'])"
   ]
  },
  {
   "cell_type": "markdown",
   "id": "334f27fe",
   "metadata": {},
   "source": [
    "#### We can clearly observe that there are outliers present in month features"
   ]
  },
  {
   "cell_type": "code",
   "execution_count": null,
   "id": "e61dc08c",
   "metadata": {},
   "outputs": [],
   "source": [
    "df[df['day']<0]"
   ]
  },
  {
   "cell_type": "code",
   "execution_count": null,
   "id": "10b7d294",
   "metadata": {},
   "outputs": [],
   "source": [
    "df.drop(24455,inplace=True)"
   ]
  },
  {
   "cell_type": "code",
   "execution_count": null,
   "id": "4ae40304",
   "metadata": {},
   "outputs": [],
   "source": [
    "sns.distplot(df['month'])"
   ]
  },
  {
   "cell_type": "code",
   "execution_count": null,
   "id": "07b67b03",
   "metadata": {},
   "outputs": [],
   "source": [
    "sns.distplot(df['day'])"
   ]
  },
  {
   "cell_type": "code",
   "execution_count": null,
   "id": "2e8c1e5c",
   "metadata": {},
   "outputs": [],
   "source": [
    "df['hour'].describe()"
   ]
  },
  {
   "cell_type": "code",
   "execution_count": null,
   "id": "2462882b",
   "metadata": {},
   "outputs": [],
   "source": [
    "df[df['hour']<0]"
   ]
  },
  {
   "cell_type": "code",
   "execution_count": null,
   "id": "7190d971",
   "metadata": {},
   "outputs": [],
   "source": [
    "df.drop(24391,inplace=True)"
   ]
  },
  {
   "cell_type": "code",
   "execution_count": null,
   "id": "92e41a8c",
   "metadata": {},
   "outputs": [],
   "source": [
    "sns.distplot(df['hour'])"
   ]
  },
  {
   "cell_type": "code",
   "execution_count": null,
   "id": "4225eea0",
   "metadata": {},
   "outputs": [],
   "source": [
    "def f(s):\n",
    "    if s=='':\n",
    "        return None\n",
    "    else:\n",
    "        return float(s)\n",
    "\n",
    "df['pressure']=df['pressure'].apply(f)"
   ]
  },
  {
   "cell_type": "code",
   "execution_count": null,
   "id": "6563439f",
   "metadata": {},
   "outputs": [],
   "source": [
    "sns.boxplot(df['pressure'])"
   ]
  },
  {
   "cell_type": "code",
   "execution_count": null,
   "id": "72f99f17",
   "metadata": {},
   "outputs": [],
   "source": [
    "df[df['pressure']<0]"
   ]
  },
  {
   "cell_type": "code",
   "execution_count": null,
   "id": "722b70fc",
   "metadata": {},
   "outputs": [],
   "source": [
    "df.drop(24314,inplace=True)"
   ]
  },
  {
   "cell_type": "code",
   "execution_count": null,
   "id": "3d1642c2",
   "metadata": {},
   "outputs": [],
   "source": [
    "sns.boxplot(df['pressure'])"
   ]
  },
  {
   "cell_type": "code",
   "execution_count": null,
   "id": "e6650b59",
   "metadata": {},
   "outputs": [],
   "source": [
    "# df['pressure'].fillna(df['pressure'].mean(),inplace=True)"
   ]
  },
  {
   "cell_type": "code",
   "execution_count": null,
   "id": "b6f1eb08",
   "metadata": {},
   "outputs": [],
   "source": [
    "df['wind_direction'].unique()"
   ]
  },
  {
   "cell_type": "code",
   "execution_count": null,
   "id": "655447aa",
   "metadata": {},
   "outputs": [],
   "source": [
    "df['wind_direction'].value_counts()"
   ]
  },
  {
   "cell_type": "code",
   "execution_count": null,
   "id": "0de25d3b",
   "metadata": {},
   "outputs": [],
   "source": [
    "df['wind_speed'].describe()"
   ]
  },
  {
   "cell_type": "code",
   "execution_count": null,
   "id": "7839ac65",
   "metadata": {},
   "outputs": [],
   "source": [
    "sns.boxplot(df['wind_speed'])"
   ]
  },
  {
   "cell_type": "code",
   "execution_count": null,
   "id": "8a0efe80",
   "metadata": {},
   "outputs": [],
   "source": [
    "higher=df['wind_speed'].quantile(0.99)\n",
    "lower=df['wind_speed'].quantile(0.01)\n",
    "df=df[(df['wind_speed']>=lower) & (df['wind_speed']<=higher)]"
   ]
  },
  {
   "cell_type": "code",
   "execution_count": null,
   "id": "7f388b3c",
   "metadata": {},
   "outputs": [],
   "source": [
    "sns.boxplot(df['wind_speed'])"
   ]
  },
  {
   "cell_type": "code",
   "execution_count": null,
   "id": "9108f625",
   "metadata": {},
   "outputs": [],
   "source": [
    "sns.distplot(df['wind_speed'])"
   ]
  },
  {
   "cell_type": "code",
   "execution_count": null,
   "id": "d6046386",
   "metadata": {},
   "outputs": [],
   "source": [
    "sns.distplot(df['rain'])"
   ]
  },
  {
   "cell_type": "code",
   "execution_count": null,
   "id": "c34377f9",
   "metadata": {},
   "outputs": [],
   "source": [
    "sns.distplot(df['temperature'])"
   ]
  },
  {
   "cell_type": "code",
   "execution_count": null,
   "id": "1f9a7247",
   "metadata": {},
   "outputs": [],
   "source": [
    "# One Hot Encoding of Wind_direction\n",
    "temp=pd.get_dummies(df['wind_direction'])\n",
    "final_df=pd.concat([df,temp],axis=1)"
   ]
  },
  {
   "cell_type": "code",
   "execution_count": null,
   "id": "f23db42d",
   "metadata": {},
   "outputs": [],
   "source": [
    "final_df.drop('wind_direction',axis=1,inplace=True)"
   ]
  },
  {
   "cell_type": "markdown",
   "id": "cde9f9fd",
   "metadata": {},
   "source": [
    "# Machine Learning Model"
   ]
  },
  {
   "cell_type": "code",
   "execution_count": null,
   "id": "a1e06235",
   "metadata": {},
   "outputs": [],
   "source": [
    "# We have make model for each year\n",
    "\n",
    "final_df['year'].value_counts()"
   ]
  },
  {
   "cell_type": "code",
   "execution_count": null,
   "id": "f33d8226",
   "metadata": {},
   "outputs": [],
   "source": [
    "def f(s):\n",
    "    return int(s)\n",
    "final_df['year']=final_df['year'].apply(f)"
   ]
  },
  {
   "cell_type": "code",
   "execution_count": null,
   "id": "42e1de26",
   "metadata": {},
   "outputs": [],
   "source": [
    "final_df['year'].value_counts()"
   ]
  },
  {
   "cell_type": "code",
   "execution_count": null,
   "id": "c0249348",
   "metadata": {},
   "outputs": [],
   "source": [
    "# We will be making separate models for each year"
   ]
  },
  {
   "cell_type": "code",
   "execution_count": null,
   "id": "6d4bd037",
   "metadata": {},
   "outputs": [],
   "source": [
    "df_13=final_df[final_df['year']==2017]\n",
    "df_13.drop('year',axis=1,inplace=True)"
   ]
  },
  {
   "cell_type": "code",
   "execution_count": null,
   "id": "cb075a9f",
   "metadata": {},
   "outputs": [],
   "source": [
    "X=df_13.drop('PM2.5',axis=1)\n",
    "Y=df_13['PM2.5']\n",
    "X.shape\n",
    "Y.shape"
   ]
  },
  {
   "cell_type": "code",
   "execution_count": null,
   "id": "3875ecf7",
   "metadata": {},
   "outputs": [],
   "source": [
    "df_13.describe()"
   ]
  },
  {
   "cell_type": "code",
   "execution_count": null,
   "id": "96e581f0",
   "metadata": {},
   "outputs": [],
   "source": [
    "from sklearn.model_selection import train_test_split\n",
    "X_train,X_test,Y_train,Y_test = train_test_split(X,Y,test_size=0.2,random_state=13)"
   ]
  },
  {
   "cell_type": "code",
   "execution_count": null,
   "id": "d7240f72",
   "metadata": {},
   "outputs": [],
   "source": [
    "from sklearn.metrics import classification_report,accuracy_score\n",
    "from sklearn.ensemble import RandomForestRegressor\n",
    "model3=RandomForestRegressor()\n",
    "model3.fit(X_train,Y_train)\n",
    "model3.score(X_test,Y_test)"
   ]
  },
  {
   "cell_type": "code",
   "execution_count": null,
   "id": "e6e3a505",
   "metadata": {},
   "outputs": [],
   "source": [
    "from sklearn.ensemble import GradientBoostingRegressor\n",
    "model4=GradientBoostingRegressor()\n",
    "model4.fit(X_train,Y_train)\n",
    "model4.score(X_test,Y_test)"
   ]
  },
  {
   "cell_type": "code",
   "execution_count": null,
   "id": "1ec92772",
   "metadata": {},
   "outputs": [],
   "source": [
    "from sklearn.ensemble import ExtraTreesRegressor\n",
    "model5=ExtraTreesRegressor()\n",
    "model5.fit(X_train,Y_train)\n",
    "model5.score(X_test,Y_test)"
   ]
  },
  {
   "cell_type": "code",
   "execution_count": null,
   "id": "7ff9ed70",
   "metadata": {},
   "outputs": [],
   "source": [
    "ans3=model5.predict(X_test)"
   ]
  },
  {
   "cell_type": "code",
   "execution_count": null,
   "id": "2583af61",
   "metadata": {},
   "outputs": [],
   "source": [
    "from sklearn.metrics import mean_squared_error,mean_squared_log_error\n",
    "print(mean_squared_error(Y_test,ans3))\n",
    "mean_squared_log_error(Y_test,ans3)"
   ]
  },
  {
   "cell_type": "markdown",
   "id": "959a612c",
   "metadata": {},
   "source": [
    "# Saving as a model"
   ]
  },
  {
   "cell_type": "code",
   "execution_count": null,
   "id": "420bd8b1",
   "metadata": {},
   "outputs": [],
   "source": [
    "import pickle\n",
    "pickle.dump(model5, open('model2017', 'wb'))"
   ]
  },
  {
   "cell_type": "code",
   "execution_count": null,
   "id": "457d95bf",
   "metadata": {},
   "outputs": [],
   "source": [
    "final_df.to_csv('final_train.csv')"
   ]
  }
 ],
 "metadata": {
  "kernelspec": {
   "display_name": "Python 3 (ipykernel)",
   "language": "python",
   "name": "python3"
  },
  "language_info": {
   "codemirror_mode": {
    "name": "ipython",
    "version": 3
   },
   "file_extension": ".py",
   "mimetype": "text/x-python",
   "name": "python",
   "nbconvert_exporter": "python",
   "pygments_lexer": "ipython3",
   "version": "3.9.7"
  }
 },
 "nbformat": 4,
 "nbformat_minor": 5
}
